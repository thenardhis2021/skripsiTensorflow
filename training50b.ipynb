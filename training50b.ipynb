{
 "cells": [
  {
   "cell_type": "code",
   "execution_count": 1,
   "metadata": {},
   "outputs": [],
   "source": [
    "import numpy as np\n",
    "import h5py"
   ]
  },
  {
   "cell_type": "code",
   "execution_count": 2,
   "metadata": {},
   "outputs": [
    {
     "name": "stdout",
     "output_type": "stream",
     "text": [
      "Available dataset names: ['model_weights', 'optimizer_weights']\n"
     ]
    }
   ],
   "source": [
    "# Open the H5 file\n",
    "with h5py.File('test1.h5', 'r') as file:\n",
    "    # List all dataset names within the file\n",
    "    dataset_names = list(file.keys())\n",
    "    print(\"Available dataset names:\", dataset_names)"
   ]
  },
  {
   "cell_type": "code",
   "execution_count": 3,
   "metadata": {},
   "outputs": [
    {
     "name": "stdout",
     "output_type": "stream",
     "text": [
      "conv1d\n",
      "conv1d_1\n",
      "conv1d_2\n",
      "conv1d_3\n",
      "dense\n",
      "dense_1\n",
      "dense_2\n",
      "dropout\n",
      "dropout_1\n",
      "dropout_2\n",
      "dropout_3\n",
      "dropout_4\n",
      "dropout_5\n",
      "flatten\n",
      "max_pooling1d\n",
      "max_pooling1d_1\n",
      "max_pooling1d_2\n",
      "max_pooling1d_3\n",
      "top_level_model_weights\n"
     ]
    }
   ],
   "source": [
    "# Open the HDF5 file\n",
    "with h5py.File('test1.h5', 'r') as hdf5_file:\n",
    "    # Access a group named 'model_weights'\n",
    "    group = hdf5_file['model_weights']\n",
    "\n",
    "    # Now you can work with the group's contents as needed\n",
    "    # For example, you can list the datasets within the group\n",
    "    for dataset_name in group:\n",
    "        print(dataset_name)"
   ]
  },
  {
   "cell_type": "code",
   "execution_count": 4,
   "metadata": {},
   "outputs": [
    {
     "name": "stdout",
     "output_type": "stream",
     "text": [
      "Shape of dataset1: \n",
      " (19,)\n"
     ]
    }
   ],
   "source": [
    "with h5py.File('test1.h5', 'r') as hdf:\n",
    "    data = hdf.get('model_weights')\n",
    "    dataset1 = np.array(data)\n",
    "    print('Shape of dataset1: \\n', dataset1.shape)"
   ]
  },
  {
   "cell_type": "code",
   "execution_count": 5,
   "metadata": {},
   "outputs": [
    {
     "name": "stdout",
     "output_type": "stream",
     "text": [
      "Shape of dataset2: \n",
      " (2,)\n"
     ]
    }
   ],
   "source": [
    "with h5py.File('test1.h5', 'r') as hdf:\n",
    "    data = hdf.get('optimizer_weights')\n",
    "    dataset2 = np.array(data)\n",
    "    print('Shape of dataset2: \\n', dataset2.shape)"
   ]
  },
  {
   "cell_type": "code",
   "execution_count": 6,
   "metadata": {},
   "outputs": [
    {
     "data": {
      "text/plain": [
       "array(['Adam', 'iteration:0'], dtype='<U11')"
      ]
     },
     "execution_count": 6,
     "metadata": {},
     "output_type": "execute_result"
    }
   ],
   "source": [
    "dataset2"
   ]
  },
  {
   "cell_type": "code",
   "execution_count": 7,
   "metadata": {},
   "outputs": [
    {
     "data": {
      "text/plain": [
       "18"
      ]
     },
     "execution_count": 7,
     "metadata": {},
     "output_type": "execute_result"
    }
   ],
   "source": [
    "np.argmax(dataset1)"
   ]
  },
  {
   "cell_type": "code",
   "execution_count": 8,
   "metadata": {},
   "outputs": [
    {
     "data": {
      "text/plain": [
       "1"
      ]
     },
     "execution_count": 8,
     "metadata": {},
     "output_type": "execute_result"
    }
   ],
   "source": [
    "np.argmax(dataset2)"
   ]
  },
  {
   "cell_type": "code",
   "execution_count": 9,
   "metadata": {},
   "outputs": [
    {
     "name": "stdout",
     "output_type": "stream",
     "text": [
      "Keys in 'Adam' group: ['m', 'v']\n"
     ]
    }
   ],
   "source": [
    "# Open the H5 file for reading\n",
    "h5_file = h5py.File(\"test1.h5\", \"r\")\n",
    "\n",
    "# Access and inspect \"optimizer_weights\" group\n",
    "optimizer_weights_group = h5_file[\"optimizer_weights\"]\n",
    "\n",
    "# Access and inspect the \"Adam\" group\n",
    "adam_group = optimizer_weights_group[\"Adam\"]\n",
    "print(\"Keys in 'Adam' group:\", list(adam_group.keys()))\n",
    "\n",
    "# Close the H5 file when done\n",
    "h5_file.close()"
   ]
  },
  {
   "cell_type": "code",
   "execution_count": 10,
   "metadata": {},
   "outputs": [
    {
     "name": "stdout",
     "output_type": "stream",
     "text": [
      "Keys in 'optimizer_weights' group: ['Adam', 'iteration:0']\n",
      "Keys in 'Adam' group: ['m', 'v']\n"
     ]
    }
   ],
   "source": [
    "# Open the H5 file for reading\n",
    "h5_file = h5py.File(\"test1.h5\", \"r\")\n",
    "\n",
    "# Access and inspect \"optimizer_weights\" group\n",
    "optimizer_weights_group = h5_file[\"optimizer_weights\"]\n",
    "print(\"Keys in 'optimizer_weights' group:\", list(optimizer_weights_group.keys()))\n",
    "\n",
    "# Access and inspect the \"Adam\" group\n",
    "adam_group = optimizer_weights_group[\"Adam\"]\n",
    "print(\"Keys in 'Adam' group:\", list(adam_group.keys()))"
   ]
  },
  {
   "cell_type": "code",
   "execution_count": 11,
   "metadata": {},
   "outputs": [
    {
     "name": "stdout",
     "output_type": "stream",
     "text": [
      "Keys in 'model_weights' group: ['conv1d', 'conv1d_1', 'conv1d_2', 'conv1d_3', 'dense', 'dense_1', 'dense_2', 'dropout', 'dropout_1', 'dropout_2', 'dropout_3', 'dropout_4', 'dropout_5', 'flatten', 'max_pooling1d', 'max_pooling1d_1', 'max_pooling1d_2', 'max_pooling1d_3', 'top_level_model_weights']\n",
      "Keys in 'conv1d_3' group: ['conv1d_3']\n"
     ]
    }
   ],
   "source": [
    "# Open the H5 file for reading\n",
    "h5_file = h5py.File(\"test1.h5\", \"r\")\n",
    "\n",
    "# Access and inspect \"optimizer_weights\" group\n",
    "model_weights_group = h5_file[\"model_weights\"]\n",
    "print(\"Keys in 'model_weights' group:\", list(model_weights_group.keys()))\n",
    "\n",
    "# Access and inspect the \"conv1d_3\" group within model_weights_group\n",
    "conv1d_3_group = model_weights_group[\"conv1d_3\"]\n",
    "print(\"Keys in 'conv1d_3' group:\", list(conv1d_3_group.keys()))"
   ]
  },
  {
   "cell_type": "code",
   "execution_count": 12,
   "metadata": {},
   "outputs": [
    {
     "name": "stdout",
     "output_type": "stream",
     "text": [
      "Akurasi yang disimpan pada data sendiri: 47.42%\n",
      "Akurasi yang disimpan pada model pra-pelatihan: 51.02%\n"
     ]
    }
   ],
   "source": [
    "with open('akurasi1.txt', 'r') as file:\n",
    "    saved_acc = float(file.read())\n",
    "    print(\"Akurasi yang disimpan pada data sendiri: {:.2f}%\".format(saved_acc * 100))\n",
    "\n",
    "with open('akurasi3.txt', 'r') as file:\n",
    "    saved_acc = float(file.read())\n",
    "    print(\"Akurasi yang disimpan pada model pra-pelatihan: {:.2f}%\".format(saved_acc * 100))"
   ]
  }
 ],
 "metadata": {
  "kernelspec": {
   "display_name": "Python 3",
   "language": "python",
   "name": "python3"
  },
  "language_info": {
   "codemirror_mode": {
    "name": "ipython",
    "version": 3
   },
   "file_extension": ".py",
   "mimetype": "text/x-python",
   "name": "python",
   "nbconvert_exporter": "python",
   "pygments_lexer": "ipython3",
   "version": "3.11.3"
  },
  "orig_nbformat": 4
 },
 "nbformat": 4,
 "nbformat_minor": 2
}
